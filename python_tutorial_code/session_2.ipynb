{
 "cells": [
  {
   "cell_type": "code",
   "execution_count": null,
   "id": "8a20e66a",
   "metadata": {},
   "outputs": [],
   "source": [
    "cols_1 = [\"red\", \"blue\", [\"green\", \"turquoise\", \"beige\"], 10]\n",
    "cols_2 = [\"purple\", \"orange\", cols_1, 100]\n",
    "\n",
    "# cols_1[2][::2]\n",
    "\n",
    "cols_2[2][2][1]"
   ]
  },
  {
   "cell_type": "code",
   "execution_count": 10,
   "id": "9e51706e",
   "metadata": {},
   "outputs": [
    {
     "name": "stdout",
     "output_type": "stream",
     "text": [
      "green\n"
     ]
    }
   ],
   "source": [
    "list_m=[1.05,22,\"fancy\",[\"pink\",\"blue\",\"green\"]]\n",
    "slice=print(list_m[-1][-1])"
   ]
  },
  {
   "cell_type": "code",
   "execution_count": null,
   "id": "507be71d",
   "metadata": {},
   "outputs": [],
   "source": [
    "# Write a list which contains:\n",
    "# a float, an integer, a string, and another list which itself contains strings\n",
    "list_2 = [11.12, 20, \"this is a string\", [\"String 1\", \"String 2\"]]\n",
    "# use the square bracket notation to slice out and print the last string from the\n",
    "# list inside the list (try and do it using a minus rather than a normal number)\n",
    "# variables as standard are: lower case words, with _ between\n",
    " \n",
    "sub_list = list_2[-1][-1]\n",
    " \n",
    "sub_list"
   ]
  },
  {
   "cell_type": "code",
   "execution_count": 16,
   "id": "c1ea36da",
   "metadata": {},
   "outputs": [
    {
     "name": "stdout",
     "output_type": "stream",
     "text": [
      "['red', 'blue', 'red']\n",
      "['red', 'blue', 'red', 'brown']\n",
      "['red', 'blue', 'red', 'brown', ['purple', 'orange']]\n",
      "['red', 'blue', 'red', 'brown', ['purple', 'orange'], 'purple', 'orange']\n",
      "['red', 'blue', 'red', 'brown', ['purple', 'orange'], 'purple', 'orange', 'b', 'r', 'o', 'w', 'n']\n",
      "['red', 'blue', 'red', 'brown', ['purple', 'orange'], 'orange', 'b', 'r', 'o', 'w', 'n']\n",
      "['cheese', 'beef', 'bread']\n",
      "['cheese', 'beef', 'bread', 'rice']\n",
      "['vegetables', 'cheese', 'beef', 'bread', 'rice']\n"
     ]
    }
   ],
   "source": [
    " \n",
    "# Functions and Methods\n",
    "# print(arguments) <- ean example of a function\n",
    "# variable_of_type.method() <- method \n",
    "# .append(), .extend(), .remove() (.sort(), sort())\n",
    "cols_1 = [\"red\", \"blue\", \"red\"]\n",
    "print(cols_1)\n",
    "cols_1.append(\"brown\") # mutates\n",
    "print(cols_1)\n",
    "cols_2 = [\"purple\", \"orange\"]\n",
    "cols_1.append(cols_2) # adds stuff to lists as a single element\n",
    "print(cols_1)\n",
    "cols_1.extend(cols_2) # adds adds iterables as individual elements\n",
    "print(cols_1)\n",
    "cols_1.extend(\"brown\")\n",
    "print(cols_1)\n",
    "cols_1.remove(\"purple\") # removes only 1 element with a given value\n",
    "print(cols_1)\n",
    "# In this cell, make a list of a few foods and print it.\n",
    "# Then append the list with another food and print it.\n",
    "# Next, make another list of foods, and use the extend method to \n",
    "# add those extra foods as individual elements of the list, and print it.\n",
    "# Finally, remove and element from the list and print the final list.\n",
    "# Remember to always use a suitable name for your lists!\n",
    "foods_list=[\"cheese\",\"beef\",\"bread\"]\n",
    "print(foods_list)\n",
    "foods_list.append(\"rice\")\n",
    "print(foods_list)\n",
    "\n",
    "foods_list_2=[\"vegetables\",\"pulses\"]#\n",
    "foods_list_2.extend(foods_list)\n",
    "foods_list_2.remove(\"pulses\")\n",
    "print(foods_list_2)"
   ]
  },
  {
   "cell_type": "code",
   "execution_count": null,
   "id": "0d34b4d5",
   "metadata": {},
   "outputs": [],
   "source": [
    "fav_colours = {\"Will\":\"black\", \n",
    "               \"Clare\":\"yellow\",\n",
    "               \"Marcel\":{\"Monday\":[\"blue\", \"yellow\"],\n",
    "                         \"RoW\":\"Grey\"}}\n",
    "\n",
    "# type(fav_colours)# type(fav_colours)\n",
    "\n",
    "fav_colours[\"Will\"] # accessing dicitonaries by key\n",
    "\n",
    "fav_colours[\"Marcel\"][\"Monday\"][0] # accessing nested elements\n",
    "\n",
    "list(fav_colours.keys())\n",
    "\n",
    "list(fav_colours.values())\n",
    "\n",
    "list(fav_colours.items()) # returns tuples\n",
    "\n",
    "# make a dictionary of restaurants with keys being the name and values being the foods,\n",
    "# make sure at least one value is a list of foods, and another is a dicitonary of days and foods\n",
    "# use the keys, vlaues, and items methods to views those"
   ]
  },
  {
   "cell_type": "code",
   "execution_count": 25,
   "id": "19de7287",
   "metadata": {},
   "outputs": [
    {
     "data": {
      "text/plain": [
       "[('EAT', 'pizza'),\n",
       " ('Browns', 'veggie'),\n",
       " ('Pret', 'snacks'),\n",
       " ('Restaurant', {'weekend': 'tasting_menu'})]"
      ]
     },
     "execution_count": 25,
     "metadata": {},
     "output_type": "execute_result"
    }
   ],
   "source": [
    "restos={\"EAT\":\"pizza\",\"Browns\":\"veggie\",\"Pret\":\"snacks\",\"Restaurant\":{\"weekend\":\"fixed_menu\",\"weekend\":\"tasting_menu\"}}\n",
    "list(restos.keys())\n",
    "restos[\"EAT\"]\n",
    "list(restos.items())"
   ]
  },
  {
   "cell_type": "code",
   "execution_count": null,
   "id": "40df0b02",
   "metadata": {},
   "outputs": [],
   "source": []
  },
  {
   "cell_type": "code",
   "execution_count": null,
   "id": "d10817b0",
   "metadata": {},
   "outputs": [],
   "source": []
  },
  {
   "cell_type": "code",
   "execution_count": 19,
   "id": "8a427f3d",
   "metadata": {},
   "outputs": [
    {
     "name": "stdout",
     "output_type": "stream",
     "text": [
      "{'Pub': 'Sunday Roast', 'The Chippy': ['Fish', 'Chips'], 'Restaurant': {'Week days': 'Limited menu', 'Weekends': 'Tasting Menu'}}\n",
      "{'Pub': 'Sunday Roast', 'The Chippy': ['Fish', 'Chips'], 'Restaurant': {'Week days': 'Limited menu', 'Weekends': 'Tasting Menu'}, 'Bakrey': 'Breads'}\n",
      "False\n"
     ]
    }
   ],
   "source": [
    "# Using the key, print the values of one of the restaurants in your dicitonary.\n",
    "# Add a new key:value pair to your dictionary, as above.\n",
    "# Check whether 'Coffee Shop' is a key in your dictionary, printing the answer.\n",
    "\n",
    "foods = {\"Pub\":\"Sunday Roast\",\n",
    "         \"The Chippy\":[\"Fish\", \"Chips\"],\n",
    "         \"Restaurant\":{\"Week days\":\"Limited menu\",\n",
    "                       \"Weekends\":\"Tasting Menu\"}}\n",
    "\n",
    "foods['Pub']\n",
    "print(foods)\n",
    "foods['Bakrey'] = \"Breads\"\n",
    "print(foods)\n",
    "print(\"Coffee Shop\" in foods)"
   ]
  }
 ],
 "metadata": {
  "kernelspec": {
   "display_name": "Python 3",
   "language": "python",
   "name": "python3"
  },
  "language_info": {
   "codemirror_mode": {
    "name": "ipython",
    "version": 3
   },
   "file_extension": ".py",
   "mimetype": "text/x-python",
   "name": "python",
   "nbconvert_exporter": "python",
   "pygments_lexer": "ipython3",
   "version": "3.12.1"
  }
 },
 "nbformat": 4,
 "nbformat_minor": 5
}
