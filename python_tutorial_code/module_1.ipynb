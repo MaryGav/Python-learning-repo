{
 "cells": [
  {
   "cell_type": "code",
   "execution_count": 1,
   "id": "de463137",
   "metadata": {},
   "outputs": [
    {
     "name": "stdout",
     "output_type": "stream",
     "text": [
      "7\n"
     ]
    }
   ],
   "source": [
    "x=4\n",
    "y=3\n",
    "z=x+y\n",
    "print(z)"
   ]
  },
  {
   "cell_type": "code",
   "execution_count": 2,
   "id": "29a71356",
   "metadata": {},
   "outputs": [
    {
     "name": "stdout",
     "output_type": "stream",
     "text": [
      "15\n",
      "2.0\n",
      "<class 'float'>\n",
      "<class 'int'>\n"
     ]
    }
   ],
   "source": [
    "x = 5\n",
    "y = 10\n",
    "z = x + y\n",
    "# print is a function that, for our simple purposes, will show you \n",
    "# in the terminal (or on the page in Jupyter) the data stored in a variable\n",
    "print(z) \n",
    "j = y / x\n",
    "print(j)\n",
    "# printing the type of a variable tells us what data is stored in it, \n",
    "# floats are numbers with decimals\n",
    "print(type(j)) \n",
    "j = int(j)\n",
    "# we can also convert j to an integer, \n",
    "# and check its worked by printing its new type\n",
    "print((type(j))) \n"
   ]
  },
  {
   "cell_type": "code",
   "execution_count": 4,
   "id": "49b4520a",
   "metadata": {},
   "outputs": [
    {
     "name": "stdout",
     "output_type": "stream",
     "text": [
      "21\n"
     ]
    }
   ],
   "source": [
    "x=3\n",
    "y=7\n",
    "z=x*y\n",
    "print(z)"
   ]
  },
  {
   "cell_type": "code",
   "execution_count": 5,
   "id": "8d69eea8",
   "metadata": {},
   "outputs": [
    {
     "name": "stdout",
     "output_type": "stream",
     "text": [
      "12.56\n"
     ]
    }
   ],
   "source": [
    "r=2\n",
    "a=3.14*r**2\n",
    "print (a)"
   ]
  },
  {
   "cell_type": "code",
   "execution_count": 4,
   "id": "2332bcd0",
   "metadata": {},
   "outputs": [
    {
     "name": "stdout",
     "output_type": "stream",
     "text": [
      "<class 'str'>\n",
      "MaryInformation analyst\n",
      "My name is Mary,and my job title is  Information analyst.\n",
      "MaryInformation analyst\n",
      "My name is\n"
     ]
    }
   ],
   "source": [
    "name = 'Mary' \n",
    "print(type(name))\n",
    "Job = 'Information analyst'\n",
    "long_string = name + Job\n",
    "print(long_string) \n",
    "phrase = f'My name is {name},and my job title is  {Job}.'\n",
    "print(phrase)\n",
    "print(long_string) \n",
    "string_slice = phrase[:10]\n",
    "print(string_slice)"
   ]
  },
  {
   "cell_type": "code",
   "execution_count": 12,
   "id": "ff7c1c0e",
   "metadata": {},
   "outputs": [
    {
     "ename": "NameError",
     "evalue": "name 'Mary' is not defined",
     "output_type": "error",
     "traceback": [
      "\u001b[31m---------------------------------------------------------------------------\u001b[39m",
      "\u001b[31mNameError\u001b[39m                                 Traceback (most recent call last)",
      "\u001b[36mCell\u001b[39m\u001b[36m \u001b[39m\u001b[32mIn[12]\u001b[39m\u001b[32m, line 1\u001b[39m\n\u001b[32m----> \u001b[39m\u001b[32m1\u001b[39m name = \u001b[43mMary\u001b[49m\n\u001b[32m      2\u001b[39m age =\u001b[32m6\u001b[39m\n\u001b[32m      3\u001b[39m z=name + age\n",
      "\u001b[31mNameError\u001b[39m: name 'Mary' is not defined"
     ]
    }
   ],
   "source": [
    "name = Mary\n",
    "age =6\n",
    "z=name + age"
   ]
  },
  {
   "cell_type": "code",
   "execution_count": 6,
   "id": "cc43efbc",
   "metadata": {},
   "outputs": [
    {
     "name": "stdout",
     "output_type": "stream",
     "text": [
      "heres_a_file\n"
     ]
    }
   ],
   "source": [
    "filename = 'heres_a_file.csv'\n",
    "shortened_name = filename[:-4]\n",
    "print (shortened_name )"
   ]
  },
  {
   "cell_type": "code",
   "execution_count": 13,
   "id": "66c1f0fd",
   "metadata": {},
   "outputs": [
    {
     "name": "stdout",
     "output_type": "stream",
     "text": [
      "dog\n",
      "cat\n",
      "racoon\n"
     ]
    }
   ],
   "source": [
    "slice_this_phrase = 'dog cat racoon'\n",
    "\n",
    "string_slice_1 = slice_this_phrase[ :3]\n",
    "string_slice_2 = slice_this_phrase[ 4:7] \n",
    "string_slice_3 = slice_this_phrase[ 8:]\n",
    "print(string_slice_1)\n",
    "\n",
    "print(string_slice_2)\n",
    "\n",
    "print(string_slice_3)\n",
    "\n",
    "\n",
    "\n",
    "\n",
    "\n",
    "\n",
    "\n",
    "\n",
    "\n",
    "\n"
   ]
  },
  {
   "cell_type": "markdown",
   "id": "19460513",
   "metadata": {},
   "source": []
  }
 ],
 "metadata": {
  "kernelspec": {
   "display_name": "Python 3",
   "language": "python",
   "name": "python3"
  },
  "language_info": {
   "codemirror_mode": {
    "name": "ipython",
    "version": 3
   },
   "file_extension": ".py",
   "mimetype": "text/x-python",
   "name": "python",
   "nbconvert_exporter": "python",
   "pygments_lexer": "ipython3",
   "version": "3.12.1"
  }
 },
 "nbformat": 4,
 "nbformat_minor": 5
}
